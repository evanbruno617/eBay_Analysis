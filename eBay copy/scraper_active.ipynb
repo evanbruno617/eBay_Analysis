{
 "cells": [
  {
   "cell_type": "code",
   "execution_count": 1,
   "id": "d288091e",
   "metadata": {},
   "outputs": [],
   "source": [
    "# import dependencies \n",
    "import pandas as pd\n",
    "from splinter import Browser\n",
    "from bs4 import BeautifulSoup as soup\n",
    "import pandas as pd\n",
    "import datetime as dt\n",
    "from webdriver_manager.chrome import ChromeDriverManager\n",
    "import time\n",
    "import numpy as np\n",
    "import random\n",
    "import os"
   ]
  },
  {
   "cell_type": "code",
   "execution_count": 2,
   "id": "5392cb60",
   "metadata": {},
   "outputs": [],
   "source": [
    "# Install and launch the Chrome browser\n",
    "executable_path = {'executable_path': '/Users/evanbruno/.wdm/drivers/chromedriver/mac64/116.0.5845.179/chromedriver'}\n",
    "\n",
    "\n",
    "browser = Browser('chrome', **executable_path, headless=False)"
   ]
  },
  {
   "cell_type": "code",
   "execution_count": 3,
   "id": "508a6f06",
   "metadata": {},
   "outputs": [],
   "source": [
    "# visit nba page \n",
    "url = f'https://signin.ebay.com/ws/eBayISAPI.dll?SignIn&ru=https%3A%2F%2Fwww.ebay.com%2Fsh%2Fresearch'\n",
    "browser.visit(url)"
   ]
  },
  {
   "cell_type": "code",
   "execution_count": 4,
   "id": "27e808bc",
   "metadata": {},
   "outputs": [],
   "source": [
    "browser.find_by_id('userid').fill('mingchong728@gmail.com')"
   ]
  },
  {
   "cell_type": "code",
   "execution_count": 5,
   "id": "3468ce3a",
   "metadata": {},
   "outputs": [],
   "source": [
    "browser.find_by_text('Continue').click()"
   ]
  },
  {
   "cell_type": "code",
   "execution_count": 6,
   "id": "b8e4eb30",
   "metadata": {},
   "outputs": [],
   "source": [
    "browser.find_by_id('pass').fill('bajmit-2Keqzy-zargiv')"
   ]
  },
  {
   "cell_type": "code",
   "execution_count": 7,
   "id": "e1761aac",
   "metadata": {},
   "outputs": [],
   "source": [
    "browser.find_by_text('Sign in').click()"
   ]
  },
  {
   "cell_type": "code",
   "execution_count": 49,
   "id": "406e5052",
   "metadata": {},
   "outputs": [],
   "source": [
    "html = browser.html\n",
    "test = soup(html, 'html.parser')"
   ]
  },
  {
   "cell_type": "code",
   "execution_count": 35,
   "id": "6331dbb9",
   "metadata": {},
   "outputs": [
    {
     "data": {
      "text/plain": [
       "'Jan 8, 2024'"
      ]
     },
     "execution_count": 35,
     "metadata": {},
     "output_type": "execute_result"
    }
   ],
   "source": [
    "test.find_all(class_='research-table-row')[-1].find_all(class_='research-table-row__item research-table-row__dateLastSold')[-1].get_text()\n",
    "\n"
   ]
  },
  {
   "cell_type": "code",
   "execution_count": 32,
   "id": "50e5c0f2",
   "metadata": {},
   "outputs": [],
   "source": [
    "from datetime import datetime"
   ]
  },
  {
   "cell_type": "code",
   "execution_count": 44,
   "id": "57b6b20c",
   "metadata": {},
   "outputs": [],
   "source": [
    "current = datetime.strptime('Jan 8, 2024', \"%b %d, %Y\")"
   ]
  },
  {
   "cell_type": "code",
   "execution_count": 43,
   "id": "11eadb18",
   "metadata": {},
   "outputs": [],
   "source": [
    "stop = datetime.strptime('Jan 8, 2022', \"%b %d, %Y\")"
   ]
  },
  {
   "cell_type": "code",
   "execution_count": 46,
   "id": "71ef7cd3",
   "metadata": {},
   "outputs": [],
   "source": [
    "if current < stop:\n",
    "    print(True)"
   ]
  },
  {
   "cell_type": "code",
   "execution_count": 71,
   "id": "afe9786e",
   "metadata": {},
   "outputs": [],
   "source": [
    "browser.find_by_id('s0-1-0-0-24-16-3-7-0-0-0-1-3-3-0-0-10-4-17-textbox').fill('ikea furniture')"
   ]
  },
  {
   "cell_type": "code",
   "execution_count": 72,
   "id": "c327e196",
   "metadata": {},
   "outputs": [],
   "source": [
    "browser.find_by_xpath('//*[@id=\"mainContent\"]/section/div[1]/div[1]/div/div/div/button[1]').click()"
   ]
  },
  {
   "cell_type": "code",
   "execution_count": 11,
   "id": "0d820508",
   "metadata": {},
   "outputs": [],
   "source": [
    "browser.find_by_text('Research').click()"
   ]
  },
  {
   "cell_type": "code",
   "execution_count": 57,
   "id": "2d6db6bc",
   "metadata": {},
   "outputs": [
    {
     "data": {
      "text/plain": [
       "5"
      ]
     },
     "execution_count": 57,
     "metadata": {},
     "output_type": "execute_result"
    }
   ],
   "source": [
    "random.randint(3, 7)"
   ]
  },
  {
   "cell_type": "code",
   "execution_count": 31,
   "id": "a1b129fe",
   "metadata": {},
   "outputs": [],
   "source": [
    "import random"
   ]
  },
  {
   "cell_type": "code",
   "execution_count": 41,
   "id": "0ba617a7",
   "metadata": {},
   "outputs": [],
   "source": [
    "total_df = pd.DataFrame()"
   ]
  },
  {
   "cell_type": "code",
   "execution_count": 42,
   "id": "b9882bd2",
   "metadata": {},
   "outputs": [
    {
     "name": "stdout",
     "output_type": "stream",
     "text": [
      "1\n",
      "2\n",
      "3\n",
      "4\n",
      "5\n",
      "6\n",
      "7\n",
      "8\n",
      "9\n",
      "10\n",
      "11\n",
      "12\n",
      "13\n",
      "14\n",
      "15\n",
      "16\n",
      "17\n",
      "18\n",
      "19\n",
      "20\n",
      "21\n",
      "22\n",
      "23\n",
      "24\n",
      "25\n",
      "26\n",
      "27\n",
      "28\n",
      "29\n",
      "30\n",
      "31\n",
      "32\n",
      "33\n",
      "34\n",
      "35\n",
      "36\n",
      "37\n",
      "38\n",
      "39\n",
      "40\n",
      "41\n"
     ]
    },
    {
     "ename": "KeyboardInterrupt",
     "evalue": "",
     "output_type": "error",
     "traceback": [
      "\u001b[0;31m---------------------------------------------------------------------------\u001b[0m",
      "\u001b[0;31mKeyboardInterrupt\u001b[0m                         Traceback (most recent call last)",
      "Input \u001b[0;32mIn [42]\u001b[0m, in \u001b[0;36m<cell line: 5>\u001b[0;34m()\u001b[0m\n\u001b[1;32m     36\u001b[0m     status \u001b[38;5;241m=\u001b[39m \u001b[38;5;28;01mTrue\u001b[39;00m\n\u001b[1;32m     38\u001b[0m browser\u001b[38;5;241m.\u001b[39mfind_by_xpath(\u001b[38;5;124m'\u001b[39m\u001b[38;5;124m/html/body/div[7]/div[2]/div[1]/section/div[1]/span/div/div/div/span/div/div/div[2]/div[2]/div/div/div[2]/div[4]/div/div[1]/nav/button[3]\u001b[39m\u001b[38;5;124m'\u001b[39m)\u001b[38;5;241m.\u001b[39mclick()\n\u001b[0;32m---> 40\u001b[0m \u001b[43mtime\u001b[49m\u001b[38;5;241;43m.\u001b[39;49m\u001b[43msleep\u001b[49m\u001b[43m(\u001b[49m\u001b[43mrandom\u001b[49m\u001b[38;5;241;43m.\u001b[39;49m\u001b[43mrandint\u001b[49m\u001b[43m(\u001b[49m\u001b[38;5;241;43m10\u001b[39;49m\u001b[43m,\u001b[49m\u001b[43m \u001b[49m\u001b[38;5;241;43m20\u001b[39;49m\u001b[43m)\u001b[49m\u001b[43m)\u001b[49m\n\u001b[1;32m     42\u001b[0m page \u001b[38;5;241m+\u001b[39m\u001b[38;5;241m=\u001b[39m\u001b[38;5;241m1\u001b[39m\n\u001b[1;32m     44\u001b[0m data \u001b[38;5;241m=\u001b[39m pd\u001b[38;5;241m.\u001b[39mDataFrame\u001b[38;5;241m.\u001b[39mfrom_dict(data_dict)\n",
      "\u001b[0;31mKeyboardInterrupt\u001b[0m: "
     ]
    }
   ],
   "source": [
    "\n",
    "\n",
    "status = False\n",
    "\n",
    "page = 1\n",
    "\n",
    "while status == False:\n",
    "    \n",
    "    print(page)\n",
    "\n",
    "    html = browser.html\n",
    "    test = soup(html, 'html.parser')\n",
    "    \n",
    "    time.sleep(random.randint(10, 15))\n",
    "\n",
    "    data_dict = {'Listing': [], 'Actions': [], 'Avg Sold Price': [], 'Watchers': [], 'Promoted': [], 'Bids': [], 'Start Date': []}\n",
    "\n",
    "    for i in test.find(class_='active-result-table').find_all(class_='active-listing-row'):\n",
    "        columns = i.find_all('td')\n",
    "\n",
    "        title = columns[0].get_text()\n",
    "\n",
    "        data_dict['Listing'].append(title)\n",
    "        data_dict['Actions'].append(columns[1].get_text())\n",
    "        data_dict['Avg Sold Price'].append(columns[2].get_text())\n",
    "        data_dict['Bids'].append(columns[3].get_text())\n",
    "        data_dict['Watchers'].append(columns[4].get_text())\n",
    "        data_dict['Promoted'].append(columns[5].get_text())\n",
    "        data_dict['Start Date'].append(columns[6].get_text())\n",
    "\n",
    "    date = test.find_all(class_='active-listing-row')[-1].find_all(class_='active-listing-row__item active-listing-row__startedDate')[-1].get_text()\n",
    "\n",
    "    current = datetime.strptime(date, \"%b %d, %Y\")\n",
    "    \n",
    "    stop = datetime.strptime('Jan 8, 2022', \"%b %d, %Y\")\n",
    "    \n",
    "    if current < stop:\n",
    "        status = True\n",
    "        \n",
    "    browser.find_by_xpath('/html/body/div[7]/div[2]/div[1]/section/div[1]/span/div/div/div/span/div/div/div[2]/div[2]/div/div/div[2]/div[4]/div/div[1]/nav/button[3]').click()\n",
    "\n",
    "    time.sleep(random.randint(10, 20))\n",
    "    \n",
    "    page +=1\n",
    "    \n",
    "    data = pd.DataFrame.from_dict(data_dict)\n",
    "    \n",
    "    total_df = pd.concat([total_df, data])\n",
    "    \n",
    "    \n",
    "    \n",
    "    "
   ]
  },
  {
   "cell_type": "code",
   "execution_count": 36,
   "id": "298e7a28",
   "metadata": {},
   "outputs": [
    {
     "data": {
      "text/html": [
       "<div>\n",
       "<style scoped>\n",
       "    .dataframe tbody tr th:only-of-type {\n",
       "        vertical-align: middle;\n",
       "    }\n",
       "\n",
       "    .dataframe tbody tr th {\n",
       "        vertical-align: top;\n",
       "    }\n",
       "\n",
       "    .dataframe thead th {\n",
       "        text-align: right;\n",
       "    }\n",
       "</style>\n",
       "<table border=\"1\" class=\"dataframe\">\n",
       "  <thead>\n",
       "    <tr style=\"text-align: right;\">\n",
       "      <th></th>\n",
       "      <th>Listing</th>\n",
       "      <th>Actions</th>\n",
       "      <th>Avg Sold Price</th>\n",
       "      <th>Watchers</th>\n",
       "      <th>Promoted</th>\n",
       "      <th>Bids</th>\n",
       "      <th>Start Date</th>\n",
       "    </tr>\n",
       "  </thead>\n",
       "  <tbody>\n",
       "    <tr>\n",
       "      <th>0</th>\n",
       "      <td>, preview full size imageTOP BRIGHT Montessori...</td>\n",
       "      <td>EditSell Similar</td>\n",
       "      <td>$23.96Free shipping</td>\n",
       "      <td>0</td>\n",
       "      <td></td>\n",
       "      <td>–</td>\n",
       "      <td>Mar 21, 2024</td>\n",
       "    </tr>\n",
       "    <tr>\n",
       "      <th>1</th>\n",
       "      <td>, preview full size imageAozzy 7-in-1 Wooden A...</td>\n",
       "      <td>EditSell Similar</td>\n",
       "      <td>$32.63Free shipping</td>\n",
       "      <td>0</td>\n",
       "      <td></td>\n",
       "      <td>–</td>\n",
       "      <td>Mar 21, 2024</td>\n",
       "    </tr>\n",
       "    <tr>\n",
       "      <th>2</th>\n",
       "      <td>, preview full size imageNUKied Wooden Activit...</td>\n",
       "      <td>EditSell Similar</td>\n",
       "      <td>$32.63Free shipping</td>\n",
       "      <td>0</td>\n",
       "      <td></td>\n",
       "      <td>–</td>\n",
       "      <td>Mar 21, 2024</td>\n",
       "    </tr>\n",
       "    <tr>\n",
       "      <th>3</th>\n",
       "      <td>, preview full size imageToys for 1 Year Old B...</td>\n",
       "      <td>EditSell Similar</td>\n",
       "      <td>$38.38Free shipping</td>\n",
       "      <td>0</td>\n",
       "      <td></td>\n",
       "      <td>–</td>\n",
       "      <td>Mar 21, 2024</td>\n",
       "    </tr>\n",
       "    <tr>\n",
       "      <th>4</th>\n",
       "      <td>, preview full size imageWooden Activity Cube ...</td>\n",
       "      <td>EditSell Similar</td>\n",
       "      <td>$46.43Free shipping</td>\n",
       "      <td>0</td>\n",
       "      <td></td>\n",
       "      <td>–</td>\n",
       "      <td>Mar 21, 2024</td>\n",
       "    </tr>\n",
       "    <tr>\n",
       "      <th>...</th>\n",
       "      <td>...</td>\n",
       "      <td>...</td>\n",
       "      <td>...</td>\n",
       "      <td>...</td>\n",
       "      <td>...</td>\n",
       "      <td>...</td>\n",
       "      <td>...</td>\n",
       "    </tr>\n",
       "    <tr>\n",
       "      <th>30</th>\n",
       "      <td>, preview full size imageTOP BRIGHT Activity C...</td>\n",
       "      <td>EditSell Similar</td>\n",
       "      <td>$35.50Free shipping</td>\n",
       "      <td>6</td>\n",
       "      <td></td>\n",
       "      <td>–</td>\n",
       "      <td>Dec 2, 2021</td>\n",
       "    </tr>\n",
       "    <tr>\n",
       "      <th>31</th>\n",
       "      <td>, preview full size imageActivity Cube Toys fo...</td>\n",
       "      <td>EditSell Similar</td>\n",
       "      <td>$20.79+$10.00 shipping</td>\n",
       "      <td>0</td>\n",
       "      <td></td>\n",
       "      <td>–</td>\n",
       "      <td>May 31, 2021</td>\n",
       "    </tr>\n",
       "    <tr>\n",
       "      <th>32</th>\n",
       "      <td>, preview full size imageWooden Activity Cube ...</td>\n",
       "      <td>EditSell Similar</td>\n",
       "      <td>$24.61Free shipping</td>\n",
       "      <td>51</td>\n",
       "      <td></td>\n",
       "      <td>–</td>\n",
       "      <td>May 7, 2021</td>\n",
       "    </tr>\n",
       "    <tr>\n",
       "      <th>33</th>\n",
       "      <td>, preview full size imageActivity Cube Toys fo...</td>\n",
       "      <td>EditSell Similar</td>\n",
       "      <td>$44.85Free shipping</td>\n",
       "      <td>1</td>\n",
       "      <td>–</td>\n",
       "      <td>–</td>\n",
       "      <td>Apr 5, 2021</td>\n",
       "    </tr>\n",
       "    <tr>\n",
       "      <th>34</th>\n",
       "      <td>, preview full size imageActivity Cube Toys - ...</td>\n",
       "      <td>EditSell Similar</td>\n",
       "      <td>$41.61Free shipping</td>\n",
       "      <td>2</td>\n",
       "      <td></td>\n",
       "      <td>–</td>\n",
       "      <td>Aug 3, 2019</td>\n",
       "    </tr>\n",
       "  </tbody>\n",
       "</table>\n",
       "<p>235 rows × 7 columns</p>\n",
       "</div>"
      ],
      "text/plain": [
       "                                              Listing           Actions  \\\n",
       "0   , preview full size imageTOP BRIGHT Montessori...  EditSell Similar   \n",
       "1   , preview full size imageAozzy 7-in-1 Wooden A...  EditSell Similar   \n",
       "2   , preview full size imageNUKied Wooden Activit...  EditSell Similar   \n",
       "3   , preview full size imageToys for 1 Year Old B...  EditSell Similar   \n",
       "4   , preview full size imageWooden Activity Cube ...  EditSell Similar   \n",
       "..                                                ...               ...   \n",
       "30  , preview full size imageTOP BRIGHT Activity C...  EditSell Similar   \n",
       "31  , preview full size imageActivity Cube Toys fo...  EditSell Similar   \n",
       "32  , preview full size imageWooden Activity Cube ...  EditSell Similar   \n",
       "33  , preview full size imageActivity Cube Toys fo...  EditSell Similar   \n",
       "34  , preview full size imageActivity Cube Toys - ...  EditSell Similar   \n",
       "\n",
       "            Avg Sold Price Watchers Promoted Bids    Start Date  \n",
       "0      $23.96Free shipping        0             –  Mar 21, 2024  \n",
       "1      $32.63Free shipping        0             –  Mar 21, 2024  \n",
       "2      $32.63Free shipping        0             –  Mar 21, 2024  \n",
       "3      $38.38Free shipping        0             –  Mar 21, 2024  \n",
       "4      $46.43Free shipping        0             –  Mar 21, 2024  \n",
       "..                     ...      ...      ...  ...           ...  \n",
       "30     $35.50Free shipping        6             –   Dec 2, 2021  \n",
       "31  $20.79+$10.00 shipping        0             –  May 31, 2021  \n",
       "32     $24.61Free shipping       51             –   May 7, 2021  \n",
       "33     $44.85Free shipping        1        –    –   Apr 5, 2021  \n",
       "34     $41.61Free shipping        2             –   Aug 3, 2019  \n",
       "\n",
       "[235 rows x 7 columns]"
      ]
     },
     "execution_count": 36,
     "metadata": {},
     "output_type": "execute_result"
    }
   ],
   "source": [
    "total_df"
   ]
  },
  {
   "cell_type": "code",
   "execution_count": 40,
   "id": "3b3f612b",
   "metadata": {},
   "outputs": [],
   "source": [
    "total_df.to_csv('educational_toys_active.csv')"
   ]
  },
  {
   "cell_type": "code",
   "execution_count": 165,
   "id": "5ca2c0b3",
   "metadata": {},
   "outputs": [],
   "source": [
    "browser.quit()"
   ]
  },
  {
   "cell_type": "code",
   "execution_count": null,
   "id": "044b14d5",
   "metadata": {},
   "outputs": [],
   "source": [
    "total_df = pd.DataFrame()"
   ]
  },
  {
   "cell_type": "code",
   "execution_count": null,
   "id": "393b2459",
   "metadata": {},
   "outputs": [],
   "source": [
    "\n",
    "\n",
    "status = False\n",
    "\n",
    "page = 1\n",
    "\n",
    "while status == False:\n",
    "    \n",
    "    print(page)\n",
    "\n",
    "    html = browser.html\n",
    "    test = soup(html, 'html.parser')\n",
    "    \n",
    "    time.sleep(random.randint(10, 15))\n",
    "\n",
    "    data_dict = {'Listing': [], 'Actions': [], 'Avg Sold Price': [], 'Avg Shipping': [], 'Total Sold': [], 'Item_Sale': [], 'Bids': [], 'Date Last Sold': []}\n",
    "\n",
    "    for i in test.find(class_='static-table').find_all(class_='research-table-row'):\n",
    "        columns = i.find_all('td')\n",
    "\n",
    "        title = columns[0].get_text()\n",
    "\n",
    "        data_dict['Listing'].append(title)\n",
    "        data_dict['Actions'].append(columns[1].get_text())\n",
    "        data_dict['Avg Sold Price'].append(columns[2].get_text())\n",
    "        data_dict['Avg Shipping'].append(columns[3].get_text())\n",
    "        data_dict['Total Sold'].append(columns[4].get_text())\n",
    "        data_dict['Item_Sale'].append(columns[5].get_text())\n",
    "        data_dict['Bids'].append(columns[6].get_text())\n",
    "        data_dict['Date Last Sold'].append(columns[7].get_text())\n",
    "\n",
    "    date = test.find_all(class_='research-table-row')[-1].find_all(class_='research-table-row__item research-table-row__dateLastSold')[-1].get_text()\n",
    "\n",
    "    current = datetime.strptime(date, \"%b %d, %Y\")\n",
    "    \n",
    "    stop = datetime.strptime('Jan 8, 2022', \"%b %d, %Y\")\n",
    "    \n",
    "    if current < stop:\n",
    "        status = True\n",
    "        \n",
    "    browser.find_by_xpath('/html/body/div[7]/div[2]/div[1]/section/div[1]/span/div/div/div/span/div/div/div[2]/div[1]/div/div/div[2]/div[4]/div/div[1]/nav/button[3]').click()\n",
    "\n",
    "    time.sleep(random.randint(10, 30))\n",
    "    \n",
    "    page +=1\n",
    "    \n",
    "    data = pd.DataFrame.from_dict(data_dict)\n",
    "    \n",
    "    total_df = pd.concat([total_df, data])\n",
    "    \n",
    "    \n",
    "    \n",
    "    "
   ]
  }
 ],
 "metadata": {
  "kernelspec": {
   "display_name": "PythonData",
   "language": "python",
   "name": "pythondata"
  },
  "language_info": {
   "codemirror_mode": {
    "name": "ipython",
    "version": 3
   },
   "file_extension": ".py",
   "mimetype": "text/x-python",
   "name": "python",
   "nbconvert_exporter": "python",
   "pygments_lexer": "ipython3",
   "version": "3.9.7"
  }
 },
 "nbformat": 4,
 "nbformat_minor": 5
}
